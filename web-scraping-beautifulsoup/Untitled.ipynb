{
 "cells": [
  {
   "cell_type": "code",
   "execution_count": 1,
   "metadata": {},
   "outputs": [],
   "source": [
    "from collections import defaultdict\n",
    "import numpy as np"
   ]
  },
  {
   "cell_type": "code",
   "execution_count": 2,
   "metadata": {},
   "outputs": [],
   "source": [
    "letterCount = defaultdict(lambda: int())"
   ]
  },
  {
   "cell_type": "code",
   "execution_count": null,
   "metadata": {},
   "outputs": [],
   "source": [
    "string = \"ABCcc\"\n",
    "string = string.lower()"
   ]
  },
  {
   "cell_type": "code",
   "execution_count": null,
   "metadata": {},
   "outputs": [],
   "source": [
    "for s in string:\n",
    "    letterCount[s]+=1"
   ]
  },
  {
   "cell_type": "code",
   "execution_count": 3,
   "metadata": {},
   "outputs": [
    {
     "data": {
      "text/plain": [
       "defaultdict(<function __main__.<lambda>()>, {})"
      ]
     },
     "execution_count": 3,
     "metadata": {},
     "output_type": "execute_result"
    }
   ],
   "source": [
    "letterCount"
   ]
  },
  {
   "cell_type": "code",
   "execution_count": null,
   "metadata": {},
   "outputs": [],
   "source": [
    "Xd = np.array([[2, 4], [0, 1]])\n",
    "yd = np.array([8, 3])\n",
    "wd = np.array([-2, 3])\n",
    "Xd.dot(wd)               # confirm\n",
    "np.linalg.solve(Xd, yd)  # find"
   ]
  },
  {
   "cell_type": "code",
   "execution_count": null,
   "metadata": {},
   "outputs": [],
   "source": []
  },
  {
   "cell_type": "code",
   "execution_count": null,
   "metadata": {},
   "outputs": [],
   "source": [
    "string"
   ]
  },
  {
   "cell_type": "code",
   "execution_count": null,
   "metadata": {},
   "outputs": [],
   "source": [
    "sums = 0\n",
    "for a in range(1, 27):\n",
    "    for b in range(1, 27):\n",
    "        if b!=a:\n",
    "            for c in range(1, 27):\n",
    "                if b!=a:\n",
    "                    sum = "
   ]
  },
  {
   "cell_type": "code",
   "execution_count": 12,
   "metadata": {},
   "outputs": [
    {
     "data": {
      "text/plain": [
       "'Good luck in the Facebook Hacker Cup this year!'"
      ]
     },
     "execution_count": 12,
     "metadata": {},
     "output_type": "execute_result"
    }
   ],
   "source": [
    "string = \"Good luck in the Facebook Hacker Cup this year!\"\n",
    "for s in string:\n",
    "    if(ord(s)>= 97 and ord(s)<=122):\n",
    "        letterCount[s]+=1   \n",
    "string"
   ]
  },
  {
   "cell_type": "code",
   "execution_count": 13,
   "metadata": {},
   "outputs": [
    {
     "data": {
      "text/plain": [
       "defaultdict(<function __main__.<lambda>()>,\n",
       "            {'o': 4,\n",
       "             'd': 1,\n",
       "             'l': 1,\n",
       "             'u': 2,\n",
       "             'c': 3,\n",
       "             'k': 3,\n",
       "             'i': 2,\n",
       "             'n': 1,\n",
       "             't': 2,\n",
       "             'h': 2,\n",
       "             'e': 4,\n",
       "             'a': 3,\n",
       "             'b': 1,\n",
       "             'r': 2,\n",
       "             'p': 1,\n",
       "             's': 1,\n",
       "             'y': 1})"
      ]
     },
     "execution_count": 13,
     "metadata": {},
     "output_type": "execute_result"
    }
   ],
   "source": [
    "letterCount"
   ]
  },
  {
   "cell_type": "code",
   "execution_count": null,
   "metadata": {},
   "outputs": [],
   "source": [
    "chr(64)"
   ]
  },
  {
   "cell_type": "code",
   "execution_count": null,
   "metadata": {},
   "outputs": [],
   "source": [
    "ord('z')"
   ]
  },
  {
   "cell_type": "code",
   "execution_count": 3,
   "metadata": {},
   "outputs": [],
   "source": [
    "import pickle"
   ]
  },
  {
   "cell_type": "code",
   "execution_count": 4,
   "metadata": {},
   "outputs": [],
   "source": [
    "def read_pickle(filename):\n",
    "    with open(filename+\".pkl\", 'rb') as read_file:\n",
    "        obj = pickle.load(read_file)\n",
    "        return obj\n",
    "\n",
    "lst = read_pickle('rest_data_4')"
   ]
  },
  {
   "cell_type": "code",
   "execution_count": 6,
   "metadata": {},
   "outputs": [],
   "source": [
    "column_headers = ['Restaurant Name', 'Rating', 'Number of Reviews', 'Price Range', 'Food Type',\n",
    "                 'Number of Photos', 'Mon Hours', 'Tue Hours', 'Wed Hours', 'Thu Hours', \n",
    "                  'Fri Hours', 'Sat Hours', 'Sun Hours']"
   ]
  },
  {
   "cell_type": "code",
   "execution_count": 8,
   "metadata": {},
   "outputs": [
    {
     "data": {
      "text/html": [
       "<div>\n",
       "<style scoped>\n",
       "    .dataframe tbody tr th:only-of-type {\n",
       "        vertical-align: middle;\n",
       "    }\n",
       "\n",
       "    .dataframe tbody tr th {\n",
       "        vertical-align: top;\n",
       "    }\n",
       "\n",
       "    .dataframe thead th {\n",
       "        text-align: right;\n",
       "    }\n",
       "</style>\n",
       "<table border=\"1\" class=\"dataframe\">\n",
       "  <thead>\n",
       "    <tr style=\"text-align: right;\">\n",
       "      <th></th>\n",
       "      <th>Restaurant Name</th>\n",
       "      <th>Rating</th>\n",
       "      <th>Number of Reviews</th>\n",
       "      <th>Price Range</th>\n",
       "      <th>Food Type</th>\n",
       "      <th>Number of Photos</th>\n",
       "      <th>Mon Hours</th>\n",
       "      <th>Tue Hours</th>\n",
       "      <th>Wed Hours</th>\n",
       "      <th>Thu Hours</th>\n",
       "      <th>Fri Hours</th>\n",
       "      <th>Sat Hours</th>\n",
       "      <th>Sun Hours</th>\n",
       "    </tr>\n",
       "  </thead>\n",
       "  <tbody>\n",
       "    <tr>\n",
       "      <td>0</td>\n",
       "      <td>Shun</td>\n",
       "      <td>5</td>\n",
       "      <td>18</td>\n",
       "      <td>4</td>\n",
       "      <td>French, Japanese</td>\n",
       "      <td>132</td>\n",
       "      <td>Closed</td>\n",
       "      <td>5:30 pm - 10:00 pm</td>\n",
       "      <td>5:30 pm - 10:00 pm</td>\n",
       "      <td>5:30 pm - 10:00 pm</td>\n",
       "      <td>5:30 pm - 10:30 pm</td>\n",
       "      <td>5:30 pm - 10:30 pm</td>\n",
       "      <td>Closed</td>\n",
       "    </tr>\n",
       "    <tr>\n",
       "      <td>1</td>\n",
       "      <td>Eleven Madison Park</td>\n",
       "      <td>4.5</td>\n",
       "      <td>2081</td>\n",
       "      <td>4</td>\n",
       "      <td>American (New), French, Cocktail Bars</td>\n",
       "      <td>7887</td>\n",
       "      <td>5:30 pm - 10:00 pm</td>\n",
       "      <td>5:30 pm - 10:00 pm</td>\n",
       "      <td>5:30 pm - 10:00 pm</td>\n",
       "      <td>5:30 pm - 10:30 pm</td>\n",
       "      <td>12:00 pm - 1:00 pm</td>\n",
       "      <td>12:00 pm - 1:00 pm</td>\n",
       "      <td>12:00 pm - 1:00 pm</td>\n",
       "    </tr>\n",
       "    <tr>\n",
       "      <td>2</td>\n",
       "      <td>Atera</td>\n",
       "      <td>4.5</td>\n",
       "      <td>245</td>\n",
       "      <td>4</td>\n",
       "      <td>American (Traditional)</td>\n",
       "      <td>1428</td>\n",
       "      <td>Closed</td>\n",
       "      <td>6:00 pm - 10:30 pm</td>\n",
       "      <td>6:00 pm - 10:30 pm</td>\n",
       "      <td>6:00 pm - 10:30 pm</td>\n",
       "      <td>6:00 pm - 10:30 pm</td>\n",
       "      <td>1:30 pm - 10:30 pm</td>\n",
       "      <td>Closed</td>\n",
       "    </tr>\n",
       "    <tr>\n",
       "      <td>3</td>\n",
       "      <td>Gramercy Tavern</td>\n",
       "      <td>4.5</td>\n",
       "      <td>2807</td>\n",
       "      <td>4</td>\n",
       "      <td>American (New)</td>\n",
       "      <td>4805</td>\n",
       "      <td>11:30 am - 11:00 pm</td>\n",
       "      <td>11:30 am - 11:00 pm</td>\n",
       "      <td>11:30 am - 11:00 pm</td>\n",
       "      <td>11:30 am - 11:00 pm</td>\n",
       "      <td>11:30 am - 12:00 am</td>\n",
       "      <td>11:30 am - 12:00 am</td>\n",
       "      <td>11:30 am - 11:00 pm</td>\n",
       "    </tr>\n",
       "    <tr>\n",
       "      <td>4</td>\n",
       "      <td>Daniel</td>\n",
       "      <td>4.5</td>\n",
       "      <td>1548</td>\n",
       "      <td>4</td>\n",
       "      <td>French, American (Traditional), Cocktail Bars</td>\n",
       "      <td>3170</td>\n",
       "      <td>5:30 pm - 11:00 pm</td>\n",
       "      <td>5:30 pm - 11:00 pm</td>\n",
       "      <td>5:30 pm - 11:00 pm</td>\n",
       "      <td>5:30 pm - 11:00 pm</td>\n",
       "      <td>5:30 pm - 11:00 pm</td>\n",
       "      <td>5:30 pm - 11:00 pm</td>\n",
       "      <td>Closed</td>\n",
       "    </tr>\n",
       "    <tr>\n",
       "      <td>...</td>\n",
       "      <td>...</td>\n",
       "      <td>...</td>\n",
       "      <td>...</td>\n",
       "      <td>...</td>\n",
       "      <td>...</td>\n",
       "      <td>...</td>\n",
       "      <td>...</td>\n",
       "      <td>...</td>\n",
       "      <td>...</td>\n",
       "      <td>...</td>\n",
       "      <td>...</td>\n",
       "      <td>...</td>\n",
       "      <td>...</td>\n",
       "    </tr>\n",
       "    <tr>\n",
       "      <td>175</td>\n",
       "      <td>La Coquille</td>\n",
       "      <td>3.5</td>\n",
       "      <td>63</td>\n",
       "      <td>4</td>\n",
       "      <td>French</td>\n",
       "      <td>113</td>\n",
       "      <td>5:00 pm - 10:00 pm</td>\n",
       "      <td>5:00 pm - 10:00 pm</td>\n",
       "      <td>5:00 pm - 10:00 pm</td>\n",
       "      <td>5:00 pm - 10:00 pm</td>\n",
       "      <td>5:00 pm - 11:00 pm</td>\n",
       "      <td>5:00 pm - 11:00 pm</td>\n",
       "      <td>4:00 pm - 10:00 pm</td>\n",
       "    </tr>\n",
       "    <tr>\n",
       "      <td>176</td>\n",
       "      <td>Gari Columbus</td>\n",
       "      <td>4</td>\n",
       "      <td>323</td>\n",
       "      <td>4</td>\n",
       "      <td>Sushi Bars, Japanese</td>\n",
       "      <td>321</td>\n",
       "      <td>Closed</td>\n",
       "      <td>12:00 pm - 2:00 pm</td>\n",
       "      <td>12:00 pm - 2:00 pm</td>\n",
       "      <td>12:00 pm - 2:00 pm</td>\n",
       "      <td>12:00 pm - 2:00 pm</td>\n",
       "      <td>12:00 pm - 10:45 pm</td>\n",
       "      <td>12:00 pm - 10:00 pm</td>\n",
       "    </tr>\n",
       "    <tr>\n",
       "      <td>177</td>\n",
       "      <td>Sushi Ryusei</td>\n",
       "      <td>4.5</td>\n",
       "      <td>79</td>\n",
       "      <td>4</td>\n",
       "      <td>Sushi Bars, Japanese</td>\n",
       "      <td>348</td>\n",
       "      <td>12:00 pm - 2:15 pm</td>\n",
       "      <td>12:00 pm - 2:15 pm</td>\n",
       "      <td>12:00 pm - 2:15 pm</td>\n",
       "      <td>12:00 pm - 2:15 pm</td>\n",
       "      <td>12:00 pm - 2:15 pm</td>\n",
       "      <td>5:30 pm - 11:00 pm</td>\n",
       "      <td>Closed</td>\n",
       "    </tr>\n",
       "    <tr>\n",
       "      <td>178</td>\n",
       "      <td>Sushi Mikasa</td>\n",
       "      <td>3</td>\n",
       "      <td>78</td>\n",
       "      <td>4</td>\n",
       "      <td>Sushi Bars</td>\n",
       "      <td>46</td>\n",
       "      <td>5:00 pm - 12:00 am</td>\n",
       "      <td>5:00 pm - 12:00 am</td>\n",
       "      <td>5:00 pm - 12:00 am</td>\n",
       "      <td>5:00 pm - 12:00 am</td>\n",
       "      <td>5:00 pm - 12:00 am</td>\n",
       "      <td>5:00 pm - 12:00 am</td>\n",
       "      <td>5:00 pm - 12:00 am</td>\n",
       "    </tr>\n",
       "    <tr>\n",
       "      <td>179</td>\n",
       "      <td>Il Villagio</td>\n",
       "      <td>4</td>\n",
       "      <td>45</td>\n",
       "      <td>4</td>\n",
       "      <td>Italian</td>\n",
       "      <td>20</td>\n",
       "      <td>Closed</td>\n",
       "      <td>11:30 am - 10:00 pm</td>\n",
       "      <td>11:30 am - 10:00 pm</td>\n",
       "      <td>11:30 am - 10:00 pm</td>\n",
       "      <td>11:30 am - 11:00 pm</td>\n",
       "      <td>4:00 pm - 11:00 pm</td>\n",
       "      <td>3:00 pm - 9:30 pm</td>\n",
       "    </tr>\n",
       "  </tbody>\n",
       "</table>\n",
       "<p>180 rows × 13 columns</p>\n",
       "</div>"
      ],
      "text/plain": [
       "         Restaurant Name Rating Number of Reviews Price Range  \\\n",
       "0                   Shun      5                18           4   \n",
       "1    Eleven Madison Park    4.5              2081           4   \n",
       "2                  Atera    4.5               245           4   \n",
       "3        Gramercy Tavern    4.5              2807           4   \n",
       "4                 Daniel    4.5              1548           4   \n",
       "..                   ...    ...               ...         ...   \n",
       "175          La Coquille    3.5                63           4   \n",
       "176        Gari Columbus      4               323           4   \n",
       "177         Sushi Ryusei    4.5                79           4   \n",
       "178         Sushi Mikasa      3                78           4   \n",
       "179          Il Villagio      4                45           4   \n",
       "\n",
       "                                         Food Type Number of Photos  \\\n",
       "0                                 French, Japanese              132   \n",
       "1            American (New), French, Cocktail Bars             7887   \n",
       "2                           American (Traditional)             1428   \n",
       "3                                   American (New)             4805   \n",
       "4    French, American (Traditional), Cocktail Bars             3170   \n",
       "..                                             ...              ...   \n",
       "175                                         French              113   \n",
       "176                           Sushi Bars, Japanese              321   \n",
       "177                           Sushi Bars, Japanese              348   \n",
       "178                                     Sushi Bars               46   \n",
       "179                                        Italian               20   \n",
       "\n",
       "               Mon Hours            Tue Hours            Wed Hours  \\\n",
       "0                 Closed   5:30 pm - 10:00 pm   5:30 pm - 10:00 pm   \n",
       "1     5:30 pm - 10:00 pm   5:30 pm - 10:00 pm   5:30 pm - 10:00 pm   \n",
       "2                 Closed   6:00 pm - 10:30 pm   6:00 pm - 10:30 pm   \n",
       "3    11:30 am - 11:00 pm  11:30 am - 11:00 pm  11:30 am - 11:00 pm   \n",
       "4     5:30 pm - 11:00 pm   5:30 pm - 11:00 pm   5:30 pm - 11:00 pm   \n",
       "..                   ...                  ...                  ...   \n",
       "175   5:00 pm - 10:00 pm   5:00 pm - 10:00 pm   5:00 pm - 10:00 pm   \n",
       "176               Closed   12:00 pm - 2:00 pm   12:00 pm - 2:00 pm   \n",
       "177   12:00 pm - 2:15 pm   12:00 pm - 2:15 pm   12:00 pm - 2:15 pm   \n",
       "178   5:00 pm - 12:00 am   5:00 pm - 12:00 am   5:00 pm - 12:00 am   \n",
       "179               Closed  11:30 am - 10:00 pm  11:30 am - 10:00 pm   \n",
       "\n",
       "               Thu Hours            Fri Hours            Sat Hours  \\\n",
       "0     5:30 pm - 10:00 pm   5:30 pm - 10:30 pm   5:30 pm - 10:30 pm   \n",
       "1     5:30 pm - 10:30 pm   12:00 pm - 1:00 pm   12:00 pm - 1:00 pm   \n",
       "2     6:00 pm - 10:30 pm   6:00 pm - 10:30 pm   1:30 pm - 10:30 pm   \n",
       "3    11:30 am - 11:00 pm  11:30 am - 12:00 am  11:30 am - 12:00 am   \n",
       "4     5:30 pm - 11:00 pm   5:30 pm - 11:00 pm   5:30 pm - 11:00 pm   \n",
       "..                   ...                  ...                  ...   \n",
       "175   5:00 pm - 10:00 pm   5:00 pm - 11:00 pm   5:00 pm - 11:00 pm   \n",
       "176   12:00 pm - 2:00 pm   12:00 pm - 2:00 pm  12:00 pm - 10:45 pm   \n",
       "177   12:00 pm - 2:15 pm   12:00 pm - 2:15 pm   5:30 pm - 11:00 pm   \n",
       "178   5:00 pm - 12:00 am   5:00 pm - 12:00 am   5:00 pm - 12:00 am   \n",
       "179  11:30 am - 10:00 pm  11:30 am - 11:00 pm   4:00 pm - 11:00 pm   \n",
       "\n",
       "               Sun Hours  \n",
       "0                 Closed  \n",
       "1     12:00 pm - 1:00 pm  \n",
       "2                 Closed  \n",
       "3    11:30 am - 11:00 pm  \n",
       "4                 Closed  \n",
       "..                   ...  \n",
       "175   4:00 pm - 10:00 pm  \n",
       "176  12:00 pm - 10:00 pm  \n",
       "177               Closed  \n",
       "178   5:00 pm - 12:00 am  \n",
       "179    3:00 pm - 9:30 pm  \n",
       "\n",
       "[180 rows x 13 columns]"
      ]
     },
     "execution_count": 8,
     "metadata": {},
     "output_type": "execute_result"
    }
   ],
   "source": [
    "import pandas as pd\n",
    "import numpy as np\n",
    "\n",
    "df = pd.DataFrame(np.array(lst), columns=column_headers)\n",
    "df.head(180)"
   ]
  },
  {
   "cell_type": "code",
   "execution_count": null,
   "metadata": {},
   "outputs": [],
   "source": []
  }
 ],
 "metadata": {
  "kernelspec": {
   "display_name": "Python 3",
   "language": "python",
   "name": "python3"
  },
  "language_info": {
   "codemirror_mode": {
    "name": "ipython",
    "version": 3
   },
   "file_extension": ".py",
   "mimetype": "text/x-python",
   "name": "python",
   "nbconvert_exporter": "python",
   "pygments_lexer": "ipython3",
   "version": "3.6.9"
  }
 },
 "nbformat": 4,
 "nbformat_minor": 2
}
