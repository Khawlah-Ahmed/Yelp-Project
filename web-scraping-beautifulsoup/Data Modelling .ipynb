{
 "cells": [
  {
   "cell_type": "code",
   "execution_count": 1,
   "metadata": {},
   "outputs": [],
   "source": [
    "import pandas as pd\n",
    "import seaborn as sns\n",
    "import matplotlib.pyplot as plt\n",
    "import matplotlib.dates as mdates\n",
    "\n",
    "#Extrass\n",
    "import pickle\n",
    "%matplotlib inline\n",
    "%config InlineBackend.figure_format = 'svg'\n",
    "sns.set()\n",
    "\n",
    "#modeling\n",
    "from sklearn.model_selection import cross_val_score, KFold\n",
    "from sklearn.linear_model import LinearRegression, Ridge, Lasso\n",
    "from sklearn.preprocessing import StandardScaler, PolynomialFeatures\n",
    "from sklearn.model_selection import train_test_split\n",
    "from sklearn import metrics\n",
    "from statsmodels.formula.api import rlm\n",
    "from patsy import dmatrices, dmatrix, demo_data\n",
    "import statsmodels.api as sm"
   ]
  },
  {
   "cell_type": "code",
   "execution_count": 2,
   "metadata": {},
   "outputs": [],
   "source": [
    "def read_pickle(filename):\n",
    "    with open(filename+\".pkl\", 'rb') as read_file:\n",
    "        df = pickle.load(read_file)\n",
    "        return df"
   ]
  },
  {
   "cell_type": "code",
   "execution_count": 3,
   "metadata": {},
   "outputs": [],
   "source": [
    "df = read_pickle('cleaned_dataframe')"
   ]
  },
  {
   "cell_type": "code",
   "execution_count": 4,
   "metadata": {},
   "outputs": [],
   "source": [
    "df.dropna(inplace=True)"
   ]
  },
  {
   "cell_type": "code",
   "execution_count": 5,
   "metadata": {},
   "outputs": [
    {
     "name": "stderr",
     "output_type": "stream",
     "text": [
      "/home/khawlah/.conda/envs/metis/lib/python3.7/site-packages/pandas/core/indexing.py:205: SettingWithCopyWarning: \n",
      "A value is trying to be set on a copy of a slice from a DataFrame\n",
      "\n",
      "See the caveats in the documentation: http://pandas.pydata.org/pandas-docs/stable/user_guide/indexing.html#returning-a-view-versus-a-copy\n",
      "  self._setitem_with_indexer(indexer, value)\n"
     ]
    }
   ],
   "source": [
    "df.Number_of_Photos.loc[(df['Number_of_Photos'] == 'Photos')] = 0"
   ]
  },
  {
   "cell_type": "code",
   "execution_count": 6,
   "metadata": {},
   "outputs": [],
   "source": [
    "column_headers = ['Restaurant_Name', 'Rating', 'Number_of_Reviews', 'Price_Range', 'Food_Type',\n",
    "                 'Number_of_Photos', 'Mon_Hours', 'Tue_Hours', 'Wed_Hours', 'Thu_Hours', \n",
    "                  'Fri_Hours', 'Sat_Hours', 'Sun_Hours']"
   ]
  },
  {
   "cell_type": "code",
   "execution_count": 7,
   "metadata": {},
   "outputs": [],
   "source": [
    "df.Number_of_Reviews=df.Number_of_Reviews.astype(int)\n",
    "df.Rating=df.Rating.astype(float)\n",
    "df.Price_Range=df.Price_Range.astype(int)\n",
    "df.Number_of_Photos=df.Number_of_Photos.astype(int)"
   ]
  },
  {
   "cell_type": "code",
   "execution_count": 8,
   "metadata": {},
   "outputs": [],
   "source": [
    "y = df.loc[:, df.columns == 'Rating']\n",
    "X = df.loc[:, ['Number_of_Reviews', 'Price_Range', 'Number_of_Photos', 'Mon_Hours', 'Tue_Hours', 'Wed_Hours', 'Thu_Hours', \n",
    "                  'Fri_Hours', 'Sat_Hours', 'Sun_Hours']]"
   ]
  },
  {
   "cell_type": "code",
   "execution_count": 9,
   "metadata": {},
   "outputs": [
    {
     "name": "stdout",
     "output_type": "stream",
     "text": [
      "<class 'pandas.core.frame.DataFrame'>\n",
      "Int64Index: 984 entries, 0 to 1079\n",
      "Data columns (total 10 columns):\n",
      "Number_of_Reviews    984 non-null int64\n",
      "Price_Range          984 non-null int64\n",
      "Number_of_Photos     984 non-null int64\n",
      "Mon_Hours            984 non-null float64\n",
      "Tue_Hours            984 non-null float64\n",
      "Wed_Hours            984 non-null float64\n",
      "Thu_Hours            984 non-null float64\n",
      "Fri_Hours            984 non-null float64\n",
      "Sat_Hours            984 non-null float64\n",
      "Sun_Hours            984 non-null float64\n",
      "dtypes: float64(7), int64(3)\n",
      "memory usage: 84.6 KB\n"
     ]
    }
   ],
   "source": [
    "X.info()"
   ]
  },
  {
   "cell_type": "code",
   "execution_count": 10,
   "metadata": {
    "scrolled": false
   },
   "outputs": [
    {
     "name": "stderr",
     "output_type": "stream",
     "text": [
      "/home/khawlah/.conda/envs/metis/lib/python3.7/site-packages/numpy/core/fromnumeric.py:2389: FutureWarning: Method .ptp is deprecated and will be removed in a future version. Use numpy.ptp instead.\n",
      "  return ptp(axis=axis, out=out, **kwargs)\n"
     ]
    },
    {
     "data": {
      "text/html": [
       "<table class=\"simpletable\">\n",
       "<caption>OLS Regression Results</caption>\n",
       "<tr>\n",
       "  <th>Dep. Variable:</th>         <td>Rating</td>      <th>  R-squared:         </th> <td>   0.145</td>\n",
       "</tr>\n",
       "<tr>\n",
       "  <th>Model:</th>                   <td>OLS</td>       <th>  Adj. R-squared:    </th> <td>   0.136</td>\n",
       "</tr>\n",
       "<tr>\n",
       "  <th>Method:</th>             <td>Least Squares</td>  <th>  F-statistic:       </th> <td>   16.46</td>\n",
       "</tr>\n",
       "<tr>\n",
       "  <th>Date:</th>             <td>Thu, 19 Sep 2019</td> <th>  Prob (F-statistic):</th> <td>1.04e-27</td>\n",
       "</tr>\n",
       "<tr>\n",
       "  <th>Time:</th>                 <td>01:41:09</td>     <th>  Log-Likelihood:    </th> <td> -534.41</td>\n",
       "</tr>\n",
       "<tr>\n",
       "  <th>No. Observations:</th>      <td>   984</td>      <th>  AIC:               </th> <td>   1091.</td>\n",
       "</tr>\n",
       "<tr>\n",
       "  <th>Df Residuals:</th>          <td>   973</td>      <th>  BIC:               </th> <td>   1145.</td>\n",
       "</tr>\n",
       "<tr>\n",
       "  <th>Df Model:</th>              <td>    10</td>      <th>                     </th>     <td> </td>   \n",
       "</tr>\n",
       "<tr>\n",
       "  <th>Covariance Type:</th>      <td>nonrobust</td>    <th>                     </th>     <td> </td>   \n",
       "</tr>\n",
       "</table>\n",
       "<table class=\"simpletable\">\n",
       "<tr>\n",
       "          <td></td>             <th>coef</th>     <th>std err</th>      <th>t</th>      <th>P>|t|</th>  <th>[0.025</th>    <th>0.975]</th>  \n",
       "</tr>\n",
       "<tr>\n",
       "  <th>const</th>             <td>    4.1885</td> <td>    0.064</td> <td>   65.798</td> <td> 0.000</td> <td>    4.064</td> <td>    4.313</td>\n",
       "</tr>\n",
       "<tr>\n",
       "  <th>Number_of_Reviews</th> <td>-4.817e-05</td> <td> 3.18e-05</td> <td>   -1.514</td> <td> 0.130</td> <td>   -0.000</td> <td> 1.43e-05</td>\n",
       "</tr>\n",
       "<tr>\n",
       "  <th>Price_Range</th>       <td>   -0.0058</td> <td>    0.016</td> <td>   -0.364</td> <td> 0.716</td> <td>   -0.037</td> <td>    0.025</td>\n",
       "</tr>\n",
       "<tr>\n",
       "  <th>Number_of_Photos</th>  <td> 8.252e-05</td> <td> 2.51e-05</td> <td>    3.293</td> <td> 0.001</td> <td> 3.33e-05</td> <td>    0.000</td>\n",
       "</tr>\n",
       "<tr>\n",
       "  <th>Mon_Hours</th>         <td>   -0.0263</td> <td>    0.006</td> <td>   -4.085</td> <td> 0.000</td> <td>   -0.039</td> <td>   -0.014</td>\n",
       "</tr>\n",
       "<tr>\n",
       "  <th>Tue_Hours</th>         <td>   -0.0006</td> <td>    0.011</td> <td>   -0.057</td> <td> 0.954</td> <td>   -0.023</td> <td>    0.022</td>\n",
       "</tr>\n",
       "<tr>\n",
       "  <th>Wed_Hours</th>         <td>   -0.0012</td> <td>    0.013</td> <td>   -0.091</td> <td> 0.928</td> <td>   -0.027</td> <td>    0.025</td>\n",
       "</tr>\n",
       "<tr>\n",
       "  <th>Thu_Hours</th>         <td>   -0.0001</td> <td>    0.016</td> <td>   -0.009</td> <td> 0.993</td> <td>   -0.032</td> <td>    0.031</td>\n",
       "</tr>\n",
       "<tr>\n",
       "  <th>Fri_Hours</th>         <td>    0.0085</td> <td>    0.013</td> <td>    0.668</td> <td> 0.504</td> <td>   -0.017</td> <td>    0.034</td>\n",
       "</tr>\n",
       "<tr>\n",
       "  <th>Sat_Hours</th>         <td>    0.0080</td> <td>    0.008</td> <td>    1.048</td> <td> 0.295</td> <td>   -0.007</td> <td>    0.023</td>\n",
       "</tr>\n",
       "<tr>\n",
       "  <th>Sun_Hours</th>         <td>   -0.0184</td> <td>    0.005</td> <td>   -3.620</td> <td> 0.000</td> <td>   -0.028</td> <td>   -0.008</td>\n",
       "</tr>\n",
       "</table>\n",
       "<table class=\"simpletable\">\n",
       "<tr>\n",
       "  <th>Omnibus:</th>       <td>148.929</td> <th>  Durbin-Watson:     </th> <td>   1.816</td>\n",
       "</tr>\n",
       "<tr>\n",
       "  <th>Prob(Omnibus):</th> <td> 0.000</td>  <th>  Jarque-Bera (JB):  </th> <td> 357.449</td>\n",
       "</tr>\n",
       "<tr>\n",
       "  <th>Skew:</th>          <td>-0.825</td>  <th>  Prob(JB):          </th> <td>2.40e-78</td>\n",
       "</tr>\n",
       "<tr>\n",
       "  <th>Kurtosis:</th>      <td> 5.448</td>  <th>  Cond. No.          </th> <td>7.13e+03</td>\n",
       "</tr>\n",
       "</table><br/><br/>Warnings:<br/>[1] Standard Errors assume that the covariance matrix of the errors is correctly specified.<br/>[2] The condition number is large, 7.13e+03. This might indicate that there are<br/>strong multicollinearity or other numerical problems."
      ],
      "text/plain": [
       "<class 'statsmodels.iolib.summary.Summary'>\n",
       "\"\"\"\n",
       "                            OLS Regression Results                            \n",
       "==============================================================================\n",
       "Dep. Variable:                 Rating   R-squared:                       0.145\n",
       "Model:                            OLS   Adj. R-squared:                  0.136\n",
       "Method:                 Least Squares   F-statistic:                     16.46\n",
       "Date:                Thu, 19 Sep 2019   Prob (F-statistic):           1.04e-27\n",
       "Time:                        01:41:09   Log-Likelihood:                -534.41\n",
       "No. Observations:                 984   AIC:                             1091.\n",
       "Df Residuals:                     973   BIC:                             1145.\n",
       "Df Model:                          10                                         \n",
       "Covariance Type:            nonrobust                                         \n",
       "=====================================================================================\n",
       "                        coef    std err          t      P>|t|      [0.025      0.975]\n",
       "-------------------------------------------------------------------------------------\n",
       "const                 4.1885      0.064     65.798      0.000       4.064       4.313\n",
       "Number_of_Reviews -4.817e-05   3.18e-05     -1.514      0.130      -0.000    1.43e-05\n",
       "Price_Range          -0.0058      0.016     -0.364      0.716      -0.037       0.025\n",
       "Number_of_Photos   8.252e-05   2.51e-05      3.293      0.001    3.33e-05       0.000\n",
       "Mon_Hours            -0.0263      0.006     -4.085      0.000      -0.039      -0.014\n",
       "Tue_Hours            -0.0006      0.011     -0.057      0.954      -0.023       0.022\n",
       "Wed_Hours            -0.0012      0.013     -0.091      0.928      -0.027       0.025\n",
       "Thu_Hours            -0.0001      0.016     -0.009      0.993      -0.032       0.031\n",
       "Fri_Hours             0.0085      0.013      0.668      0.504      -0.017       0.034\n",
       "Sat_Hours             0.0080      0.008      1.048      0.295      -0.007       0.023\n",
       "Sun_Hours            -0.0184      0.005     -3.620      0.000      -0.028      -0.008\n",
       "==============================================================================\n",
       "Omnibus:                      148.929   Durbin-Watson:                   1.816\n",
       "Prob(Omnibus):                  0.000   Jarque-Bera (JB):              357.449\n",
       "Skew:                          -0.825   Prob(JB):                     2.40e-78\n",
       "Kurtosis:                       5.448   Cond. No.                     7.13e+03\n",
       "==============================================================================\n",
       "\n",
       "Warnings:\n",
       "[1] Standard Errors assume that the covariance matrix of the errors is correctly specified.\n",
       "[2] The condition number is large, 7.13e+03. This might indicate that there are\n",
       "strong multicollinearity or other numerical problems.\n",
       "\"\"\""
      ]
     },
     "execution_count": 10,
     "metadata": {},
     "output_type": "execute_result"
    }
   ],
   "source": [
    "#y, X = dmatrices('Rating ~ Number_of_Reviews + Price_Range + Number_of_Photos', data=X_train, return_type=\"dataframe\")\n",
    "X = sm.add_constant(X)\n",
    "# Create your model\n",
    "model = sm.OLS(y, X)\n",
    "# Fit your model to your training set\n",
    "fit = model.fit()\n",
    "# Print summary statistics of the model's performance\n",
    "fit.summary()"
   ]
  },
  {
   "cell_type": "code",
   "execution_count": null,
   "metadata": {},
   "outputs": [],
   "source": [
    "df.isna().sum()"
   ]
  },
  {
   "cell_type": "code",
   "execution_count": null,
   "metadata": {},
   "outputs": [],
   "source": [
    "plt.figure(figsize=(8, 8))\n",
    "sns.heatmap(df.corr(), annot=True, cmap='Reds')"
   ]
  },
  {
   "cell_type": "code",
   "execution_count": null,
   "metadata": {},
   "outputs": [],
   "source": [
    "print(df.corr())\n",
    "print(df.columns)"
   ]
  },
  {
   "cell_type": "code",
   "execution_count": null,
   "metadata": {},
   "outputs": [],
   "source": [
    "def diagnostic_plot(x, y):\n",
    "    plt.figure(figsize=(10,3))\n",
    "    \n",
    "    rgr = LinearRegression()\n",
    "    rgr.fit(x,y)\n",
    "    pred = rgr.predict(x)\n",
    "    plt.subplot(1, 3, 1)\n",
    "    plt.scatter(x,y)\n",
    "    plt.plot(x, pred, color='blue',linewidth=1)\n",
    "    plt.title(\"Regression fit\")\n",
    "    plt.xlabel(\"x\")\n",
    "    plt.ylabel(\"y\")\n",
    "    \n",
    "    plt.subplot(1, 3, 2)\n",
    "    res = y - pred\n",
    "    plt.scatter(pred, res)\n",
    "    plt.title(\"Residual plot\")\n",
    "    plt.xlabel(\"prediction\")\n",
    "    plt.ylabel(\"residuals\")\n",
    "    \n",
    "    plt.subplot(1, 3, 3)\n",
    "    #Generates a probability plot of sample data against the quantiles of a \n",
    "    # specified theoretical distribution \n",
    "    stats.probplot(res, dist=\"norm\", plot=plt)\n",
    "    plt.title(\"Normal Q-Q plot\")\n"
   ]
  },
  {
   "cell_type": "code",
   "execution_count": null,
   "metadata": {},
   "outputs": [],
   "source": [
    "from scipy import stats"
   ]
  },
  {
   "cell_type": "code",
   "execution_count": null,
   "metadata": {},
   "outputs": [],
   "source": [
    "x = df.iloc[:,[3]]\n",
    "y = df['Rating']\n",
    "diagnostic_plot(x,y)"
   ]
  },
  {
   "cell_type": "code",
   "execution_count": null,
   "metadata": {},
   "outputs": [],
   "source": [
    " sns.pairplot(df, height=1.5)"
   ]
  },
  {
   "cell_type": "code",
   "execution_count": null,
   "metadata": {},
   "outputs": [],
   "source": [
    "count"
   ]
  },
  {
   "cell_type": "code",
   "execution_count": null,
   "metadata": {},
   "outputs": [],
   "source": []
  }
 ],
 "metadata": {
  "kernelspec": {
   "display_name": "Python 3",
   "language": "python",
   "name": "python3"
  },
  "language_info": {
   "codemirror_mode": {
    "name": "ipython",
    "version": 3
   },
   "file_extension": ".py",
   "mimetype": "text/x-python",
   "name": "python",
   "nbconvert_exporter": "python",
   "pygments_lexer": "ipython3",
   "version": "3.7.4"
  }
 },
 "nbformat": 4,
 "nbformat_minor": 2
}
