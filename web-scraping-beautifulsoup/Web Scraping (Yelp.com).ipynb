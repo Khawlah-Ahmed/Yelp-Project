{
 "cells": [
  {
   "cell_type": "code",
   "execution_count": 11,
   "metadata": {},
   "outputs": [],
   "source": [
    "from selenium import webdriver\n",
    "import pickle \n",
    "import random\n",
    "import time"
   ]
  },
  {
   "cell_type": "code",
   "execution_count": 3,
   "metadata": {},
   "outputs": [],
   "source": [
    "driver = webdriver.Firefox()"
   ]
  },
  {
   "cell_type": "code",
   "execution_count": 4,
   "metadata": {},
   "outputs": [],
   "source": [
    "def get_links(price_range_link, num_of_rest): # get link of all restaurants of a certain price range given a link and number of restaurants needed\n",
    "    rest_list = []\n",
    "    pages_list = [price_range_link + str(link) for link in range(0, num_of_rest, 10)]\n",
    "    for page in pages_list:\n",
    "        driver.get(page)\n",
    "        for num in range (1, 11):\n",
    "            rest_list.append(driver.find_element_by_xpath('/html/body/div[2]/div[3]/div[2]/div[2]/div/div[1]/div[1]/div/ul/li['+str(num)+']/div/div/div/div[2]/div[1]/div[1]/div[1]/div[1]/h3/a').get_attribute('href'))\n",
    "    return rest_list"
   ]
  },
  {
   "cell_type": "code",
   "execution_count": 5,
   "metadata": {},
   "outputs": [],
   "source": [
    "def get_rest_data(driver):\n",
    "    try:\n",
    "        rest_name = driver.title.split('-')[0].stip()\n",
    "    except:\n",
    "        try:\n",
    "            rest_name = driver.find_element_by_xpath('//*[@id=\"wrap\"]/div[3]/div/div[1]/div[3]/div/div/div[2]/div[1]/div[1]/div/div[1]/h1').text\n",
    "        except:\n",
    "            rest_name = float('nan')\n",
    "            \n",
    "    try:\n",
    "        rating = driver.find_element_by_xpath('//*[@id=\"wrap\"]/div[3]/div/div[1]/div[3]/div/div/div[2]/div[1]/div[1]/div/div[2]/div[1]/span/div').get_attribute(\"aria-label\").split()[0]\n",
    "    except:\n",
    "        rating = float('nan')\n",
    "    \n",
    "    try:\n",
    "        num_of_reviews = driver.find_element_by_xpath('//*[@id=\"wrap\"]/div[3]/div/div[1]/div[3]/div/div/div[2]/div[1]/div[1]/div/div[2]/div[2]/p').text.split()[0]\n",
    "    except:\n",
    "        num_of_reviews = float('nan')\n",
    "    \n",
    "    try:\n",
    "        price_range = driver.find_element_by_xpath('//*[@id=\"wrap\"]/div[3]/div/div[1]/div[3]/div/div/div[2]/div[1]/div[1]/div/span[1]/span').text.count(\"$\")\n",
    "    except:\n",
    "        price_range = float('nan')\n",
    "        \n",
    "    try:\n",
    "        food_type = driver.find_element_by_xpath('//*[@id=\"wrap\"]/div[3]/div/div[1]/div[3]/div/div/div[2]/div[1]/div[1]/div/span[2]').text\n",
    "    except:\n",
    "        food_type = float('nan')\n",
    "        \n",
    "    try:\n",
    "        num_of_photos = driver.find_element_by_xpath('/html/body/div[2]/div[3]/div/div[1]/div[2]/div[2]/span/a/span').text.split()[-1]\n",
    "    except:\n",
    "        num_of_photos = float('nan')\n",
    "        \n",
    "    try:\n",
    "        mon_hours = driver.find_element_by_xpath('//*[@id=\"wrap\"]/div[3]/div/div[1]/div[3]/div/div/div[2]/div[1]/section[2]/div[2]/div[2]/div/div/table/tbody/tr[1]/td[1]/ul/li/p').text\n",
    "        tue_hours = driver.find_element_by_xpath('//*[@id=\"wrap\"]/div[3]/div/div[1]/div[3]/div/div/div[2]/div[1]/section[2]/div[2]/div[2]/div/div/table/tbody/tr[2]/td[1]/ul/li/p').text\n",
    "        wed_hours = driver.find_element_by_xpath('//*[@id=\"wrap\"]/div[3]/div/div[1]/div[3]/div/div/div[2]/div[1]/section[2]/div[2]/div[2]/div/div/table/tbody/tr[3]/td[1]/ul/li/p').text\n",
    "        thu_hours = driver.find_element_by_xpath('//*[@id=\"wrap\"]/div[3]/div/div[1]/div[3]/div/div/div[2]/div[1]/section[2]/div[2]/div[2]/div/div/table/tbody/tr[4]/td[1]/ul/li/p').text\n",
    "        fri_hours = driver.find_element_by_xpath('//*[@id=\"wrap\"]/div[3]/div/div[1]/div[3]/div/div/div[2]/div[1]/section[2]/div[2]/div[2]/div/div/table/tbody/tr[5]/td[1]/ul/li/p').text\n",
    "        sat_hours = driver.find_element_by_xpath('//*[@id=\"wrap\"]/div[3]/div/div[1]/div[3]/div/div/div[2]/div[1]/section[2]/div[2]/div[2]/div/div/table/tbody/tr[6]/td[1]/ul/li/p').text\n",
    "        sun_hours = driver.find_element_by_xpath('//*[@id=\"wrap\"]/div[3]/div/div[1]/div[3]/div/div/div[2]/div[1]/section[2]/div[2]/div[2]/div/div/table/tbody/tr[7]/td[1]/ul/li/p').text\n",
    "    except Exception as e:\n",
    "        mon_hours = tue_hours = wed_hours = thu_hours = fri_hours = sat_hours = sun_hours = float('nan')\n",
    "    \n",
    "    return [rest_name, rating, num_of_reviews, price_range, food_type, num_of_photos, mon_hours, tue_hours, wed_hours, thu_hours, fri_hours, sat_hours,sun_hours]"
   ]
  },
  {
   "cell_type": "code",
   "execution_count": 6,
   "metadata": {},
   "outputs": [],
   "source": [
    "def get_rest_data_list(rest_list):\n",
    "    rest_data = []\n",
    "    for rest in rest_list:\n",
    "        time.sleep(.5+2*random.random())\n",
    "        driver.get(rest)\n",
    "        rest_data.append(get_rest_data(driver))       \n",
    "    return rest_data"
   ]
  },
  {
   "cell_type": "code",
   "execution_count": 7,
   "metadata": {},
   "outputs": [],
   "source": [
    "def write_pickle(obj, filename):\n",
    "    with open(filename+\".pkl\", \"wb\") as to_write:\n",
    "        pickle.dump(obj, to_write)"
   ]
  },
  {
   "cell_type": "raw",
   "metadata": {},
   "source": [
    "From price_range_1 (Inexpensive), 300 restaurants are scraped. The same for price_range_2 and price_range_3.\n",
    "For price_range_4, only 180 restaurants are scraped (as there are only 180 restaurants)."
   ]
  },
  {
   "cell_type": "code",
   "execution_count": 8,
   "metadata": {},
   "outputs": [],
   "source": [
    "price_range_1 = 'https://www.yelp.com/search?find_desc=fine%20dining&find_loc=New%20York%2C%20NY&attrs=RestaurantsPriceRange2.1&start='\n",
    "price_range_2 = 'https://www.yelp.com/search?find_desc=fine%20dining&find_loc=New%20York%2C%20NY&attrs=RestaurantsPriceRange2.2&start='\n",
    "price_range_3 = 'https://www.yelp.com/search?find_desc=fine%20dining&find_loc=New%20York%2C%20NY&attrs=RestaurantsPriceRange2.3&start='\n",
    "price_range_4 = 'https://www.yelp.com/search?find_desc=fine%20dining&find_loc=New%20York%2C%20NY&attrs=RestaurantsPriceRange2.4&start='\n"
   ]
  },
  {
   "cell_type": "code",
   "execution_count": 9,
   "metadata": {},
   "outputs": [],
   "source": [
    "rest_list_1 = get_links(price_range_1, 300)\n",
    "rest_list_2 = get_links(price_range_2, 300)\n",
    "rest_list_3 = get_links(price_range_3, 300)\n",
    "rest_list_4 = get_links(price_range_4, 180)\n"
   ]
  },
  {
   "cell_type": "code",
   "execution_count": 12,
   "metadata": {},
   "outputs": [
    {
     "ename": "TimeoutException",
     "evalue": "Message: Timeout loading page after 300000ms\n",
     "output_type": "error",
     "traceback": [
      "\u001b[0;31m---------------------------------------------------------------------------\u001b[0m",
      "\u001b[0;31mTimeoutException\u001b[0m                          Traceback (most recent call last)",
      "\u001b[0;32m<ipython-input-12-4003b7cd379e>\u001b[0m in \u001b[0;36m<module>\u001b[0;34m\u001b[0m\n\u001b[0;32m----> 1\u001b[0;31m \u001b[0mrest_data_1\u001b[0m \u001b[0;34m=\u001b[0m \u001b[0mget_rest_data_list\u001b[0m\u001b[0;34m(\u001b[0m\u001b[0mrest_list_1\u001b[0m\u001b[0;34m)\u001b[0m\u001b[0;34m\u001b[0m\u001b[0;34m\u001b[0m\u001b[0m\n\u001b[0m\u001b[1;32m      2\u001b[0m \u001b[0mrest_data_2\u001b[0m \u001b[0;34m=\u001b[0m \u001b[0mget_rest_data_list\u001b[0m\u001b[0;34m(\u001b[0m\u001b[0mrest_list_2\u001b[0m\u001b[0;34m)\u001b[0m\u001b[0;34m\u001b[0m\u001b[0;34m\u001b[0m\u001b[0m\n\u001b[1;32m      3\u001b[0m \u001b[0mrest_data_3\u001b[0m \u001b[0;34m=\u001b[0m \u001b[0mget_rest_data_list\u001b[0m\u001b[0;34m(\u001b[0m\u001b[0mrest_list_3\u001b[0m\u001b[0;34m)\u001b[0m\u001b[0;34m\u001b[0m\u001b[0;34m\u001b[0m\u001b[0m\n\u001b[1;32m      4\u001b[0m \u001b[0mrest_data_4\u001b[0m \u001b[0;34m=\u001b[0m \u001b[0mget_rest_data_list\u001b[0m\u001b[0;34m(\u001b[0m\u001b[0mrest_list_4\u001b[0m\u001b[0;34m)\u001b[0m\u001b[0;34m\u001b[0m\u001b[0;34m\u001b[0m\u001b[0m\n",
      "\u001b[0;32m<ipython-input-6-ce54c466c19e>\u001b[0m in \u001b[0;36mget_rest_data_list\u001b[0;34m(rest_list)\u001b[0m\n\u001b[1;32m      3\u001b[0m     \u001b[0;32mfor\u001b[0m \u001b[0mrest\u001b[0m \u001b[0;32min\u001b[0m \u001b[0mrest_list\u001b[0m\u001b[0;34m:\u001b[0m\u001b[0;34m\u001b[0m\u001b[0;34m\u001b[0m\u001b[0m\n\u001b[1;32m      4\u001b[0m         \u001b[0mtime\u001b[0m\u001b[0;34m.\u001b[0m\u001b[0msleep\u001b[0m\u001b[0;34m(\u001b[0m\u001b[0;36m.5\u001b[0m\u001b[0;34m+\u001b[0m\u001b[0;36m2\u001b[0m\u001b[0;34m*\u001b[0m\u001b[0mrandom\u001b[0m\u001b[0;34m.\u001b[0m\u001b[0mrandom\u001b[0m\u001b[0;34m(\u001b[0m\u001b[0;34m)\u001b[0m\u001b[0;34m)\u001b[0m\u001b[0;34m\u001b[0m\u001b[0;34m\u001b[0m\u001b[0m\n\u001b[0;32m----> 5\u001b[0;31m         \u001b[0mdriver\u001b[0m\u001b[0;34m.\u001b[0m\u001b[0mget\u001b[0m\u001b[0;34m(\u001b[0m\u001b[0mrest\u001b[0m\u001b[0;34m)\u001b[0m\u001b[0;34m\u001b[0m\u001b[0;34m\u001b[0m\u001b[0m\n\u001b[0m\u001b[1;32m      6\u001b[0m         \u001b[0mrest_data\u001b[0m\u001b[0;34m.\u001b[0m\u001b[0mappend\u001b[0m\u001b[0;34m(\u001b[0m\u001b[0mget_rest_data\u001b[0m\u001b[0;34m(\u001b[0m\u001b[0mdriver\u001b[0m\u001b[0;34m)\u001b[0m\u001b[0;34m)\u001b[0m\u001b[0;34m\u001b[0m\u001b[0;34m\u001b[0m\u001b[0m\n\u001b[1;32m      7\u001b[0m     \u001b[0;32mreturn\u001b[0m \u001b[0mrest_data\u001b[0m\u001b[0;34m\u001b[0m\u001b[0;34m\u001b[0m\u001b[0m\n",
      "\u001b[0;32m~/.conda/envs/metis/lib/python3.7/site-packages/selenium/webdriver/remote/webdriver.py\u001b[0m in \u001b[0;36mget\u001b[0;34m(self, url)\u001b[0m\n\u001b[1;32m    331\u001b[0m         \u001b[0mLoads\u001b[0m \u001b[0ma\u001b[0m \u001b[0mweb\u001b[0m \u001b[0mpage\u001b[0m \u001b[0;32min\u001b[0m \u001b[0mthe\u001b[0m \u001b[0mcurrent\u001b[0m \u001b[0mbrowser\u001b[0m \u001b[0msession\u001b[0m\u001b[0;34m.\u001b[0m\u001b[0;34m\u001b[0m\u001b[0;34m\u001b[0m\u001b[0m\n\u001b[1;32m    332\u001b[0m         \"\"\"\n\u001b[0;32m--> 333\u001b[0;31m         \u001b[0mself\u001b[0m\u001b[0;34m.\u001b[0m\u001b[0mexecute\u001b[0m\u001b[0;34m(\u001b[0m\u001b[0mCommand\u001b[0m\u001b[0;34m.\u001b[0m\u001b[0mGET\u001b[0m\u001b[0;34m,\u001b[0m \u001b[0;34m{\u001b[0m\u001b[0;34m'url'\u001b[0m\u001b[0;34m:\u001b[0m \u001b[0murl\u001b[0m\u001b[0;34m}\u001b[0m\u001b[0;34m)\u001b[0m\u001b[0;34m\u001b[0m\u001b[0;34m\u001b[0m\u001b[0m\n\u001b[0m\u001b[1;32m    334\u001b[0m \u001b[0;34m\u001b[0m\u001b[0m\n\u001b[1;32m    335\u001b[0m     \u001b[0;34m@\u001b[0m\u001b[0mproperty\u001b[0m\u001b[0;34m\u001b[0m\u001b[0;34m\u001b[0m\u001b[0m\n",
      "\u001b[0;32m~/.conda/envs/metis/lib/python3.7/site-packages/selenium/webdriver/remote/webdriver.py\u001b[0m in \u001b[0;36mexecute\u001b[0;34m(self, driver_command, params)\u001b[0m\n\u001b[1;32m    319\u001b[0m         \u001b[0mresponse\u001b[0m \u001b[0;34m=\u001b[0m \u001b[0mself\u001b[0m\u001b[0;34m.\u001b[0m\u001b[0mcommand_executor\u001b[0m\u001b[0;34m.\u001b[0m\u001b[0mexecute\u001b[0m\u001b[0;34m(\u001b[0m\u001b[0mdriver_command\u001b[0m\u001b[0;34m,\u001b[0m \u001b[0mparams\u001b[0m\u001b[0;34m)\u001b[0m\u001b[0;34m\u001b[0m\u001b[0;34m\u001b[0m\u001b[0m\n\u001b[1;32m    320\u001b[0m         \u001b[0;32mif\u001b[0m \u001b[0mresponse\u001b[0m\u001b[0;34m:\u001b[0m\u001b[0;34m\u001b[0m\u001b[0;34m\u001b[0m\u001b[0m\n\u001b[0;32m--> 321\u001b[0;31m             \u001b[0mself\u001b[0m\u001b[0;34m.\u001b[0m\u001b[0merror_handler\u001b[0m\u001b[0;34m.\u001b[0m\u001b[0mcheck_response\u001b[0m\u001b[0;34m(\u001b[0m\u001b[0mresponse\u001b[0m\u001b[0;34m)\u001b[0m\u001b[0;34m\u001b[0m\u001b[0;34m\u001b[0m\u001b[0m\n\u001b[0m\u001b[1;32m    322\u001b[0m             response['value'] = self._unwrap_value(\n\u001b[1;32m    323\u001b[0m                 response.get('value', None))\n",
      "\u001b[0;32m~/.conda/envs/metis/lib/python3.7/site-packages/selenium/webdriver/remote/errorhandler.py\u001b[0m in \u001b[0;36mcheck_response\u001b[0;34m(self, response)\u001b[0m\n\u001b[1;32m    240\u001b[0m                 \u001b[0malert_text\u001b[0m \u001b[0;34m=\u001b[0m \u001b[0mvalue\u001b[0m\u001b[0;34m[\u001b[0m\u001b[0;34m'alert'\u001b[0m\u001b[0;34m]\u001b[0m\u001b[0;34m.\u001b[0m\u001b[0mget\u001b[0m\u001b[0;34m(\u001b[0m\u001b[0;34m'text'\u001b[0m\u001b[0;34m)\u001b[0m\u001b[0;34m\u001b[0m\u001b[0;34m\u001b[0m\u001b[0m\n\u001b[1;32m    241\u001b[0m             \u001b[0;32mraise\u001b[0m \u001b[0mexception_class\u001b[0m\u001b[0;34m(\u001b[0m\u001b[0mmessage\u001b[0m\u001b[0;34m,\u001b[0m \u001b[0mscreen\u001b[0m\u001b[0;34m,\u001b[0m \u001b[0mstacktrace\u001b[0m\u001b[0;34m,\u001b[0m \u001b[0malert_text\u001b[0m\u001b[0;34m)\u001b[0m\u001b[0;34m\u001b[0m\u001b[0;34m\u001b[0m\u001b[0m\n\u001b[0;32m--> 242\u001b[0;31m         \u001b[0;32mraise\u001b[0m \u001b[0mexception_class\u001b[0m\u001b[0;34m(\u001b[0m\u001b[0mmessage\u001b[0m\u001b[0;34m,\u001b[0m \u001b[0mscreen\u001b[0m\u001b[0;34m,\u001b[0m \u001b[0mstacktrace\u001b[0m\u001b[0;34m)\u001b[0m\u001b[0;34m\u001b[0m\u001b[0;34m\u001b[0m\u001b[0m\n\u001b[0m\u001b[1;32m    243\u001b[0m \u001b[0;34m\u001b[0m\u001b[0m\n\u001b[1;32m    244\u001b[0m     \u001b[0;32mdef\u001b[0m \u001b[0m_value_or_default\u001b[0m\u001b[0;34m(\u001b[0m\u001b[0mself\u001b[0m\u001b[0;34m,\u001b[0m \u001b[0mobj\u001b[0m\u001b[0;34m,\u001b[0m \u001b[0mkey\u001b[0m\u001b[0;34m,\u001b[0m \u001b[0mdefault\u001b[0m\u001b[0;34m)\u001b[0m\u001b[0;34m:\u001b[0m\u001b[0;34m\u001b[0m\u001b[0;34m\u001b[0m\u001b[0m\n",
      "\u001b[0;31mTimeoutException\u001b[0m: Message: Timeout loading page after 300000ms\n"
     ]
    }
   ],
   "source": [
    "rest_data_1 = get_rest_data_list(rest_list_1)\n",
    "rest_data_2 = get_rest_data_list(rest_list_2)\n",
    "rest_data_3 = get_rest_data_list(rest_list_3)\n",
    "rest_data_4 = get_rest_data_list(rest_list_4)\n"
   ]
  },
  {
   "cell_type": "code",
   "execution_count": null,
   "metadata": {},
   "outputs": [],
   "source": [
    "write_pickle(rest_data_1, 'Rest_data_1')\n",
    "write_pickle(rest_data_2, 'Rest_data_2')\n",
    "write_pickle(rest_data_3, 'Rest_data_3')\n",
    "write_pickle(rest_data_4, 'Rest_data_4')"
   ]
  },
  {
   "cell_type": "code",
   "execution_count": null,
   "metadata": {},
   "outputs": [],
   "source": [
    "def explode(frame,cat_col,sep=','):\n",
    "    '''inputs-\n",
    "    frame: input dataframe\n",
    "    cat_col: name of the category column\n",
    "    sep: is the seperator between the catgories\n",
    "    \n",
    "    output-\n",
    "    new dataframe with binary values for category columns\n",
    "    '''\n",
    "    df=frame.copy()\n",
    "    df[cat_col]=df[cat_col].apply(lambda x: x.replace(' ','').split(sep))\n",
    "    categories=list(set(df[cat_col].sum()))\n",
    "    df_cat=pd.DataFrame(0,index=df.index,columns=categories)\n",
    "    for cat in categories:\n",
    "        df_cat[cat]=df[cat_col].apply(lambda cat_list: int(cat in cat_list))\n",
    "    return pd.concat([df,df_cat],axis=1)\n",
    "    \n",
    "#test\n",
    "restaurants=pd.DataFrame([[7,'French | Sushi| Deli'],\n",
    "                [6,'Deli | Pizza'],\n",
    "                [8,'Pizza | Sushi| Deli']],\n",
    "               columns=['rating','cuisines'])\n",
    "explode(restaurants,'cuisines',sep='|')\n",
    "Collapse\n",
    "\n",
    "\n",
    "\n"
   ]
  },
  {
   "cell_type": "code",
   "execution_count": null,
   "metadata": {},
   "outputs": [],
   "source": []
  },
  {
   "cell_type": "code",
   "execution_count": null,
   "metadata": {},
   "outputs": [],
   "source": []
  }
 ],
 "metadata": {
  "kernelspec": {
   "display_name": "Python 3",
   "language": "python",
   "name": "python3"
  },
  "language_info": {
   "codemirror_mode": {
    "name": "ipython",
    "version": 3
   },
   "file_extension": ".py",
   "mimetype": "text/x-python",
   "name": "python",
   "nbconvert_exporter": "python",
   "pygments_lexer": "ipython3",
   "version": "3.7.4"
  }
 },
 "nbformat": 4,
 "nbformat_minor": 2
}
