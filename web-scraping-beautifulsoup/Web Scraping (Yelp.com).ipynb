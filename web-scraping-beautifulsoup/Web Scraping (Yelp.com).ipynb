{
 "cells": [
  {
   "cell_type": "code",
   "execution_count": 83,
   "metadata": {},
   "outputs": [],
   "source": [
    "from selenium import webdriver\n",
    "import pickle \n",
    "import time"
   ]
  },
  {
   "cell_type": "code",
   "execution_count": 108,
   "metadata": {},
   "outputs": [],
   "source": [
    "driver = webdriver.Firefox()"
   ]
  },
  {
   "cell_type": "code",
   "execution_count": 3,
   "metadata": {},
   "outputs": [],
   "source": [
    "def get_links(price_range_link, num_of_rest): # get link of all restaurants of a certain price range given a link and number of restaurants needed\n",
    "    rest_list = []\n",
    "    pages_list = [price_range_link + str(link) for link in range(0, num_of_rest, 10)]\n",
    "    for page in pages_list:\n",
    "        driver.get(page)\n",
    "        for num in range (1, 11):\n",
    "            rest_list.append(driver.find_element_by_xpath('/html/body/div[2]/div[3]/div[2]/div[2]/div/div[1]/div[1]/div/ul/li['+str(num)+']/div/div/div/div[2]/div[1]/div[1]/div[1]/div[1]/h3/a').get_attribute('href'))\n",
    "    return rest_list"
   ]
  },
  {
   "cell_type": "code",
   "execution_count": 80,
   "metadata": {},
   "outputs": [],
   "source": [
    "def get_rest_data(driver):\n",
    "    try:\n",
    "        rest_name = driver.title.split('-')[0].stip()\n",
    "    except:\n",
    "        try:\n",
    "            rest_name = driver.find_element_by_xpath('//*[@id=\"wrap\"]/div[3]/div/div[1]/div[3]/div/div/div[2]/div[1]/div[1]/div/div[1]/h1').text\n",
    "        except:\n",
    "            rest_name = float('nan')\n",
    "            \n",
    "    try:\n",
    "        rating = driver.find_element_by_xpath('//*[@id=\"wrap\"]/div[3]/div/div[1]/div[3]/div/div/div[2]/div[1]/div[1]/div/div[2]/div[1]/span/div').get_attribute(\"aria-label\").split()[0]\n",
    "    except:\n",
    "        rating = float('nan')\n",
    "    \n",
    "    try:\n",
    "        num_of_reviews = driver.find_element_by_xpath('//*[@id=\"wrap\"]/div[3]/div/div[1]/div[3]/div/div/div[2]/div[1]/div[1]/div/div[2]/div[2]/p').text.split()[0]\n",
    "    except:\n",
    "        num_of_reviews = float('nan')\n",
    "    \n",
    "    try:\n",
    "        price_range = driver.find_element_by_xpath('//*[@id=\"wrap\"]/div[3]/div/div[1]/div[3]/div/div/div[2]/div[1]/div[1]/div/span[1]/span').text.count(\"$\")\n",
    "    except:\n",
    "        price_range = float('nan')\n",
    "        \n",
    "    try:\n",
    "        food_type = driver.find_element_by_xpath('//*[@id=\"wrap\"]/div[3]/div/div[1]/div[3]/div/div/div[2]/div[1]/div[1]/div/span[2]').text\n",
    "    except:\n",
    "        food_type = float('nan')\n",
    "        \n",
    "    try:\n",
    "        num_of_photos = driver.find_element_by_xpath('/html/body/div[2]/div[3]/div/div[1]/div[2]/div[2]/span/a/span').text.split()[-1]\n",
    "    except:\n",
    "        num_of_photos = float('nan')\n",
    "        \n",
    "    try:\n",
    "        mon_hours = driver.find_element_by_xpath('//*[@id=\"wrap\"]/div[3]/div/div[1]/div[3]/div/div/div[2]/div[1]/section[2]/div[2]/div[2]/div/div/table/tbody/tr[1]/td[1]/ul/li/p').text\n",
    "        tue_hours = driver.find_element_by_xpath('//*[@id=\"wrap\"]/div[3]/div/div[1]/div[3]/div/div/div[2]/div[1]/section[2]/div[2]/div[2]/div/div/table/tbody/tr[2]/td[1]/ul/li/p').text\n",
    "        wed_hours = driver.find_element_by_xpath('//*[@id=\"wrap\"]/div[3]/div/div[1]/div[3]/div/div/div[2]/div[1]/section[2]/div[2]/div[2]/div/div/table/tbody/tr[3]/td[1]/ul/li/p').text\n",
    "        thu_hours = driver.find_element_by_xpath('//*[@id=\"wrap\"]/div[3]/div/div[1]/div[3]/div/div/div[2]/div[1]/section[2]/div[2]/div[2]/div/div/table/tbody/tr[4]/td[1]/ul/li/p').text\n",
    "        fri_hours = driver.find_element_by_xpath('//*[@id=\"wrap\"]/div[3]/div/div[1]/div[3]/div/div/div[2]/div[1]/section[2]/div[2]/div[2]/div/div/table/tbody/tr[5]/td[1]/ul/li/p').text\n",
    "        sat_hours = driver.find_element_by_xpath('//*[@id=\"wrap\"]/div[3]/div/div[1]/div[3]/div/div/div[2]/div[1]/section[2]/div[2]/div[2]/div/div/table/tbody/tr[6]/td[1]/ul/li/p').text\n",
    "        sun_hours = driver.find_element_by_xpath('//*[@id=\"wrap\"]/div[3]/div/div[1]/div[3]/div/div/div[2]/div[1]/section[2]/div[2]/div[2]/div/div/table/tbody/tr[7]/td[1]/ul/li/p').text\n",
    "    except Exception as e:\n",
    "        mon_hours = tue_hours = wed_hours = thu_hours = fri_hours = sat_hours = sun_hours = float('nan')\n",
    "    \n",
    "    return [rest_name, rating, num_of_reviews, price_range, food_type, num_of_photos, mon_hours, tue_hours, wed_hours, thu_hours, fri_hours, sat_hours,sun_hours]"
   ]
  },
  {
   "cell_type": "code",
   "execution_count": 5,
   "metadata": {},
   "outputs": [],
   "source": [
    "def get_rest_data_list(rest_list):\n",
    "    rest_data = []\n",
    "    for rest in rest_list:\n",
    "        time.sleep(.5+2*random.random())\n",
    "        driver.get(rest)\n",
    "        rest_data.append(get_rest_data(driver))       \n",
    "    return rest_data"
   ]
  },
  {
   "cell_type": "code",
   "execution_count": 99,
   "metadata": {},
   "outputs": [],
   "source": [
    "def write_pickle(obj, filename):\n",
    "    with open(filename+\".pkl\", \"wb\") as to_write:\n",
    "        pickle.dump(obj, to_write)"
   ]
  },
  {
   "cell_type": "raw",
   "metadata": {},
   "source": [
    "From price_range_1 (Inexpensive), 300 restaurants are scraped. The same for price_range_2 and price_range_3.\n",
    "For price_range_4, only 180 restaurants are scraped (as there are only 180 restaurants)."
   ]
  },
  {
   "cell_type": "code",
   "execution_count": 6,
   "metadata": {},
   "outputs": [],
   "source": [
    "price_range_1 = 'https://www.yelp.com/search?find_desc=fine%20dining&find_loc=New%20York%2C%20NY&attrs=RestaurantsPriceRange2.1&start='\n",
    "price_range_2 = 'https://www.yelp.com/search?find_desc=fine%20dining&find_loc=New%20York%2C%20NY&attrs=RestaurantsPriceRange2.2&start='\n",
    "price_range_3 = 'https://www.yelp.com/search?find_desc=fine%20dining&find_loc=New%20York%2C%20NY&attrs=RestaurantsPriceRange2.3&start='\n",
    "price_range_4 = 'https://www.yelp.com/search?find_desc=fine%20dining&find_loc=New%20York%2C%20NY&attrs=RestaurantsPriceRange2.4&start='\n"
   ]
  },
  {
   "cell_type": "code",
   "execution_count": null,
   "metadata": {},
   "outputs": [],
   "source": [
    "rest_list_1 = get_links(price_range_1, 300)\n",
    "rest_list_2 = get_links(price_range_2, 300)\n",
    "rest_list_3 = get_links(price_range_3, 300)\n",
    "rest_list_4 = get_links(price_range_4, 180)\n"
   ]
  },
  {
   "cell_type": "code",
   "execution_count": null,
   "metadata": {},
   "outputs": [],
   "source": [
    "rest_data_1 = get_rest_data_list(rest_list_1)\n",
    "rest_data_2 = get_rest_data_list(rest_list_2)\n",
    "rest_data_3 = get_rest_data_list(rest_list_3)\n",
    "rest_data_4 = get_rest_data_list(rest_list_4)\n"
   ]
  },
  {
   "cell_type": "code",
   "execution_count": null,
   "metadata": {},
   "outputs": [],
   "source": [
    "write_pickle(rest_data_1, 'rest_data_1')\n",
    "write_pickle(rest_data_2, 'rest_data_2')\n",
    "write_pickle(rest_data_3, 'rest_data_3')\n",
    "write_pickle(rest_data_4, 'rest_data_4')"
   ]
  }
 ],
 "metadata": {
  "kernelspec": {
   "display_name": "Python 3",
   "language": "python",
   "name": "python3"
  },
  "language_info": {
   "codemirror_mode": {
    "name": "ipython",
    "version": 3
   },
   "file_extension": ".py",
   "mimetype": "text/x-python",
   "name": "python",
   "nbconvert_exporter": "python",
   "pygments_lexer": "ipython3",
   "version": "3.6.9"
  }
 },
 "nbformat": 4,
 "nbformat_minor": 2
}
