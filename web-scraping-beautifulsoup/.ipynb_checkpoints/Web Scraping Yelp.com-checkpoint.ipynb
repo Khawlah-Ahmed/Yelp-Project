{
 "cells": [
  {
   "cell_type": "code",
   "execution_count": 35,
   "metadata": {},
   "outputs": [],
   "source": [
    "from __future__ import print_function, division\n",
    "from bs4 import BeautifulSoup\n",
    "import requests\n",
    "import csv"
   ]
  },
  {
   "cell_type": "code",
   "execution_count": 36,
   "metadata": {},
   "outputs": [
    {
     "data": {
      "text/plain": [
       "200"
      ]
     },
     "execution_count": 36,
     "metadata": {},
     "output_type": "execute_result"
    }
   ],
   "source": [
    "all_nyc_rest = 'https://www.yelp.com/search?find_desc=fine+dining&find_loc=New+York%2C+NY'\n",
    "response = requests.get(all_nyc_rest)\n",
    "response.status_code"
   ]
  },
  {
   "cell_type": "code",
   "execution_count": 37,
   "metadata": {},
   "outputs": [
    {
     "data": {
      "text/plain": [
       "['https://www.yelp.com/search?find_desc=fine%20dining&find_loc=New%20York%2C%20NY&start=0',\n",
       " 'https://www.yelp.com/search?find_desc=fine%20dining&find_loc=New%20York%2C%20NY&start=10']"
      ]
     },
     "execution_count": 37,
     "metadata": {},
     "output_type": "execute_result"
    }
   ],
   "source": [
    "base_url = 'https://www.yelp.com/search?find_desc=fine%20dining&find_loc=New%20York%2C%20NY&start='\n",
    "pages_list = [base_url+str(link) for link in range(0, 11, 10)] # range(0, 991, 10)\n",
    "pages_list\n"
   ]
  },
  {
   "cell_type": "code",
   "execution_count": 38,
   "metadata": {},
   "outputs": [],
   "source": [
    "urls = []\n",
    "for page in pages_list:\n",
    "    response = requests.get(page)\n",
    "    soup = BeautifulSoup(response.text, \"lxml\")\n",
    "    rest_list = soup.find_all('h3',attrs={'class': \"lemon--h3__373c0__sQmiG heading--h3__373c0__1n4Of alternate__373c0__1uacp\"})\n",
    "    for url in rest_list:\n",
    "        urls.append(\"http://www.yelp.com/\"+url.find('a')['href'])"
   ]
  },
  {
   "cell_type": "code",
   "execution_count": 39,
   "metadata": {
    "scrolled": true
   },
   "outputs": [
    {
     "data": {
      "text/plain": [
       "['http://www.yelp.com//biz/shun-new-york?osq=fine+dining',\n",
       " 'http://www.yelp.com//biz/boucherie-union-square-new-york?osq=fine+dining',\n",
       " 'http://www.yelp.com//biz/eleven-madison-park-new-york?osq=fine+dining',\n",
       " 'http://www.yelp.com//biz/atera-new-york?osq=fine+dining',\n",
       " 'http://www.yelp.com//biz/gramercy-tavern-new-york?osq=fine+dining',\n",
       " 'http://www.yelp.com//biz/le-bernardin-new-york?osq=fine+dining',\n",
       " 'http://www.yelp.com//biz/am%C3%A9lie-new-york?osq=fine+dining',\n",
       " 'http://www.yelp.com//biz/daniel-new-york-4?osq=fine+dining',\n",
       " 'http://www.yelp.com//biz/per-se-new-york?osq=fine+dining',\n",
       " 'http://www.yelp.com//biz/xus-public-house-new-york-2?osq=fine+dining',\n",
       " 'http://www.yelp.com//biz/coco-jadore-new-york-2?osq=fine+dining',\n",
       " 'http://www.yelp.com//biz/gotham-bar-and-grill-new-york?osq=fine+dining',\n",
       " 'http://www.yelp.com//biz/momofuku-ko-new-york-3?osq=fine+dining',\n",
       " 'http://www.yelp.com//biz/chefs-table-at-brooklyn-fare-new-york?osq=fine+dining',\n",
       " 'http://www.yelp.com//biz/the-modern-new-york-3?osq=fine+dining',\n",
       " 'http://www.yelp.com//biz/l-appart-new-york?osq=fine+dining',\n",
       " 'http://www.yelp.com//biz/restaurant-ukiyo-new-york-2?osq=fine+dining',\n",
       " 'http://www.yelp.com//biz/the-seafire-grill-new-york-4?osq=fine+dining',\n",
       " 'http://www.yelp.com//biz/manhatta-new-york?osq=fine+dining',\n",
       " 'http://www.yelp.com//biz/le-coucou-new-york?osq=fine+dining']"
      ]
     },
     "execution_count": 39,
     "metadata": {},
     "output_type": "execute_result"
    }
   ],
   "source": [
    "urls"
   ]
  },
  {
   "cell_type": "code",
   "execution_count": 34,
   "metadata": {},
   "outputs": [],
   "source": [
    "with open('scraped_yelp.csv', 'w', encoding='utf-8') as csvfile:\n",
    "    writer = csv.writer(csvfile)\n",
    "    \n",
    "    col_names = ['Restaurant Name', 'Rating', 'Foot Type', 'Price Range']\n",
    "    dic = {key: None for key in col_names}\n",
    "    \n",
    "    writer.writerow(dic.keys()) # Column names (header)\n",
    "    # for loop\n",
    "\n",
    "    dic['Restaurant Name'] = rest_name\n",
    "    dic['Rating'] = rating\n",
    "    dic['Foot Type'] = food_type\n",
    "    dic['Price Range'] = int(price_range)\n",
    "   \n",
    "    writer.writerow(dic.values())      "
   ]
  }
 ],
 "metadata": {
  "kernelspec": {
   "display_name": "Python 3",
   "language": "python",
   "name": "python3"
  },
  "language_info": {
   "codemirror_mode": {
    "name": "ipython",
    "version": 3
   },
   "file_extension": ".py",
   "mimetype": "text/x-python",
   "name": "python",
   "nbconvert_exporter": "python",
   "pygments_lexer": "ipython3",
   "version": "3.6.9"
  }
 },
 "nbformat": 4,
 "nbformat_minor": 2
}
